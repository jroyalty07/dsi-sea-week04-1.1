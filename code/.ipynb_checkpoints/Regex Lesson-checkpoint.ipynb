{
 "cells": [
  {
   "cell_type": "markdown",
   "metadata": {
    "button": false,
    "deletable": true,
    "new_sheet": false,
    "run_control": {
     "read_only": false
    }
   },
   "source": [
    "<img src=\"http://static.tvtropes.org/pmwiki/pub/images/acslatersitting_1267.jpg\" alt=\"Title\"/>"
   ]
  },
  {
   "cell_type": "markdown",
   "metadata": {
    "button": false,
    "deletable": true,
    "new_sheet": false,
    "run_control": {
     "read_only": false
    }
   },
   "source": [
    "# Hey there fellow student. Come closer. I want to jive with you for a second."
   ]
  },
  {
   "cell_type": "code",
   "execution_count": 1,
   "metadata": {
    "button": false,
    "collapsed": true,
    "deletable": true,
    "new_sheet": false,
    "run_control": {
     "read_only": false
    }
   },
   "outputs": [],
   "source": [
    "# Take a close look at this string!\n",
    "\n",
    "stringy = \"<div> Address: 1234 Fake Lane, FakeFake Faketown New Jersey, 90048 </div>\"\n",
    "\n",
    "# Wouldn't it be nice to easily find information in strings like this?"
   ]
  },
  {
   "cell_type": "markdown",
   "metadata": {
    "button": false,
    "deletable": true,
    "new_sheet": false,
    "run_control": {
     "read_only": false
    }
   },
   "source": [
    "## Well now you can! With regular expressions, you can quickly search through large amounts of data with a simple set of rules! Let's dig in! "
   ]
  },
  {
   "cell_type": "markdown",
   "metadata": {
    "button": false,
    "deletable": true,
    "new_sheet": false,
    "run_control": {
     "read_only": false
    }
   },
   "source": [
    "<img src=\"http://37.media.tumblr.com/tumblr_m8tx99Cu2x1rdutw3o1_500.gif\" alt=\"Title\" style=\"width: 250px\"/>"
   ]
  },
  {
   "cell_type": "code",
   "execution_count": 3,
   "metadata": {
    "button": false,
    "collapsed": false,
    "deletable": true,
    "new_sheet": false,
    "run_control": {
     "read_only": false
    }
   },
   "outputs": [
    {
     "name": "stdout",
     "output_type": "stream",
     "text": [
      "<\n"
     ]
    }
   ],
   "source": [
    "import re\n",
    "\n",
    "# The . matches any character except a newline (\\n)\n",
    "m = re.search('.', stringy)\n",
    "\n",
    "# m.group() contains an array of all of our matches. I wonder what this does...\n",
    "print m.group()"
   ]
  },
  {
   "cell_type": "code",
   "execution_count": 4,
   "metadata": {
    "button": false,
    "collapsed": false,
    "deletable": true,
    "new_sheet": false,
    "run_control": {
     "read_only": false
    }
   },
   "outputs": [
    {
     "name": "stdout",
     "output_type": "stream",
     "text": [
      "<di\n"
     ]
    }
   ],
   "source": [
    "# The ^ matches the start of a string, first three chars at beginning of string\n",
    "m = re.search('^...', stringy)\n",
    "\n",
    "# Try to guess. What will this print?\n",
    "print m.group()"
   ]
  },
  {
   "cell_type": "code",
   "execution_count": 5,
   "metadata": {
    "button": false,
    "collapsed": false,
    "deletable": true,
    "new_sheet": false,
    "run_control": {
     "read_only": false
    }
   },
   "outputs": [
    {
     "name": "stdout",
     "output_type": "stream",
     "text": [
      "iv>\n"
     ]
    }
   ],
   "source": [
    "# Gnarly dude! You've got this down! Let's add some more!\n",
    "# The $ matches the end of a string\n",
    "m = re.search('...$', stringy)\n",
    "\n",
    "# Try to guess. What will this print?\n",
    "print m.group()"
   ]
  },
  {
   "cell_type": "code",
   "execution_count": 11,
   "metadata": {
    "button": false,
    "collapsed": false,
    "deletable": true,
    "new_sheet": false,
    "run_control": {
     "read_only": false
    }
   },
   "outputs": [
    {
     "name": "stdout",
     "output_type": "stream",
     "text": [
      "<div> Address: 1234 Fake Lane, FakeFake Faketown New Jersey, 90048 </div>\n"
     ]
    }
   ],
   "source": [
    "# The * matches 0 - many repetitions of a string\n",
    "m = re.search('.*d*', stringy)\n",
    "\n",
    "# Try to guess. What will this print?\n",
    "print m.group()"
   ]
  },
  {
   "cell_type": "code",
   "execution_count": 134,
   "metadata": {
    "button": false,
    "collapsed": false,
    "deletable": true,
    "new_sheet": false,
    "run_control": {
     "read_only": false
    }
   },
   "outputs": [
    {
     "name": "stdout",
     "output_type": "stream",
     "text": [
      "<div> Address: 1234 Fake Lane, FakeFake Fake\n"
     ]
    }
   ],
   "source": [
    "# The + matches 1 - many repetitions of a string\n",
    "m = re.search('.*Fake+', stringy)\n",
    "\n",
    "# prints everything until the last fake.\n",
    "print m.group()"
   ]
  },
  {
   "cell_type": "code",
   "execution_count": 19,
   "metadata": {
    "button": false,
    "collapsed": false,
    "deletable": true,
    "new_sheet": false,
    "run_control": {
     "read_only": false
    }
   },
   "outputs": [
    {
     "name": "stdout",
     "output_type": "stream",
     "text": [
      "<div> Address: 1234 Fake Lane, FakeFake Fake\n",
      "<div> Address: 1234 Fake\n"
     ]
    }
   ],
   "source": [
    "# The ? matches 0 - 1 repetitions of a string\n",
    "m = re.search('.*Fake?', stringy)\n",
    "\n",
    "# Try to guess. What will this print?\n",
    "print m.group()\n",
    "\n",
    "# If you combine it with the . and * rules, you can return the first instance of a pattern match\n",
    "m = re.search('(.*?)Fake', stringy)\n",
    "\n",
    "# Try to guess. What will this print?\n",
    "print m.group()"
   ]
  },
  {
   "cell_type": "code",
   "execution_count": 22,
   "metadata": {
    "button": false,
    "collapsed": false,
    "deletable": true,
    "new_sheet": false,
    "run_control": {
     "read_only": false
    }
   },
   "outputs": [
    {
     "name": "stdout",
     "output_type": "stream",
     "text": [
      "Fake Lane, FakeFake Faketown New Jersey, 90048 </div>\n"
     ]
    }
   ],
   "source": [
    "# Use () to find whole words, phrases, or regexs\n",
    "m = re.search('(Fake)? Lane.*', stringy)\n",
    "\n",
    "# Try to guess. What will this print?\n",
    "print m.group()"
   ]
  },
  {
   "cell_type": "code",
   "execution_count": 23,
   "metadata": {
    "button": false,
    "collapsed": false,
    "deletable": true,
    "new_sheet": false,
    "run_control": {
     "read_only": false
    }
   },
   "outputs": [
    {
     "name": "stdout",
     "output_type": "stream",
     "text": [
      "<div> Address: 1234 Fake Lane, FakeFake\n"
     ]
    }
   ],
   "source": [
    "# This regex: Fake{2,3} matches 2 to 3 copies of the preceding string\n",
    "# matches until 2 to 3 copies of Fake\n",
    "m = re.search('.*(Fake){2,3}', stringy)\n",
    "\n",
    "# Try to guess. What will this print?\n",
    "print m.group()"
   ]
  },
  {
   "cell_type": "code",
   "execution_count": 30,
   "metadata": {
    "button": false,
    "collapsed": false,
    "deletable": true,
    "new_sheet": false,
    "run_control": {
     "read_only": false
    }
   },
   "outputs": [
    {
     "name": "stdout",
     "output_type": "stream",
     "text": [
      "<div> Address: 1234 Fake Lane, FakeFa\n"
     ]
    }
   ],
   "source": [
    "# Use [] to indicate a set of characters\n",
    "# first lower case letter after FakeF, and everything up to it\n",
    "m = re.search('.*?FakeF[a-z]?', stringy)\n",
    "\n",
    "# Try to guess. What will this print?\n",
    "print m.group()"
   ]
  },
  {
   "cell_type": "code",
   "execution_count": 36,
   "metadata": {
    "button": false,
    "collapsed": false,
    "deletable": true,
    "new_sheet": false,
    "run_control": {
     "read_only": false
    }
   },
   "outputs": [
    {
     "name": "stdout",
     "output_type": "stream",
     "text": [
      "FakeF\n",
      "<div> Address: 1234 Fake Lane, FakeFake Faket\n"
     ]
    }
   ],
   "source": [
    "# Use | to denote \"or\" expressions\n",
    "m = re.search('Fake[F|t]', stringy)\n",
    "\n",
    "# Try to guess. What will this print?\n",
    "print m.group()\n",
    "\n",
    "m = re.search('.*Fake[F|t]?', stringy)\n",
    "\n",
    "# Try to guess. What will this print?\n",
    "print m.group()"
   ]
  },
  {
   "cell_type": "code",
   "execution_count": 37,
   "metadata": {
    "button": false,
    "collapsed": false,
    "deletable": true,
    "new_sheet": false,
    "run_control": {
     "read_only": false
    }
   },
   "outputs": [
    {
     "name": "stdout",
     "output_type": "stream",
     "text": [
      "4 Fake L\n"
     ]
    }
   ],
   "source": [
    "# \\b: matches empty string at beginning or end of word\n",
    "m = re.search('..\\b*Fake\\b*..', stringy)\n",
    "\n",
    "# Try to guess. What will this print?\n",
    "print m.group()"
   ]
  },
  {
   "cell_type": "code",
   "execution_count": 38,
   "metadata": {
    "button": false,
    "collapsed": false,
    "deletable": true,
    "new_sheet": false,
    "run_control": {
     "read_only": false
    }
   },
   "outputs": [
    {
     "name": "stdout",
     "output_type": "stream",
     "text": [
      "1234\n"
     ]
    }
   ],
   "source": [
    "# \\d: matches a digit character\n",
    "m = re.search('\\d+', stringy)\n",
    "\n",
    "# Try to guess. What will this print?\n",
    "print m.group()"
   ]
  },
  {
   "cell_type": "code",
   "execution_count": 39,
   "metadata": {
    "button": false,
    "collapsed": false,
    "deletable": true,
    "new_sheet": false,
    "run_control": {
     "read_only": false
    }
   },
   "outputs": [
    {
     "name": "stdout",
     "output_type": "stream",
     "text": [
      "<div> Address: \n"
     ]
    }
   ],
   "source": [
    "# \\d: matches a non-digit character\n",
    "m = re.search('\\D+', stringy)\n",
    "\n",
    "# Try to guess. What will this print?\n",
    "print m.group()"
   ]
  },
  {
   "cell_type": "code",
   "execution_count": 47,
   "metadata": {
    "button": false,
    "collapsed": false,
    "deletable": true,
    "new_sheet": false,
    "run_control": {
     "read_only": false
    }
   },
   "outputs": [
    {
     "name": "stdout",
     "output_type": "stream",
     "text": [
      "v> Ad\n",
      "<div> \n"
     ]
    }
   ],
   "source": [
    "# \\s: matches any whitespace character\n",
    "m = re.search('..\\s+..', stringy)\n",
    "z = re.search('.*?\\s+', stringy) # up to first space\n",
    "# Try to guess. What will this print?\n",
    "print m.group()\n",
    "print z.group()"
   ]
  },
  {
   "cell_type": "code",
   "execution_count": 48,
   "metadata": {
    "button": false,
    "collapsed": false,
    "deletable": true,
    "new_sheet": false,
    "run_control": {
     "read_only": false
    }
   },
   "outputs": [
    {
     "name": "stdout",
     "output_type": "stream",
     "text": [
      "<div>\n"
     ]
    }
   ],
   "source": [
    "# \\S: matches any non-whitespace character\n",
    "m = re.search('\\S+', stringy)\n",
    "\n",
    "# Try to guess. What will this print?\n",
    "print m.group()"
   ]
  },
  {
   "cell_type": "code",
   "execution_count": 49,
   "metadata": {
    "button": false,
    "collapsed": false,
    "deletable": true,
    "new_sheet": false,
    "run_control": {
     "read_only": false
    }
   },
   "outputs": [
    {
     "name": "stdout",
     "output_type": "stream",
     "text": [
      "div\n"
     ]
    }
   ],
   "source": [
    "# \\w: matches any alphanumeric character\n",
    "m = re.search('\\w+', stringy)\n",
    "\n",
    "# Try to guess. What will this print?\n",
    "print m.group()"
   ]
  },
  {
   "cell_type": "code",
   "execution_count": 50,
   "metadata": {
    "button": false,
    "collapsed": false,
    "deletable": true,
    "new_sheet": false,
    "run_control": {
     "read_only": false
    }
   },
   "outputs": [
    {
     "name": "stdout",
     "output_type": "stream",
     "text": [
      "<\n"
     ]
    }
   ],
   "source": [
    "# \\W: matches any non-alphanumeric character\n",
    "m = re.search('\\W+', stringy)\n",
    "\n",
    "# Try to guess. What will this print?\n",
    "print m.group()"
   ]
  },
  {
   "cell_type": "code",
   "execution_count": 51,
   "metadata": {
    "button": false,
    "collapsed": false,
    "deletable": true,
    "new_sheet": false,
    "run_control": {
     "read_only": false
    }
   },
   "outputs": [
    {
     "name": "stdout",
     "output_type": "stream",
     "text": [
      "['FakeFake ', 'Faketown ']\n"
     ]
    }
   ],
   "source": [
    "# Use findall to return all results\n",
    "m = re.findall('Fake\\w+\\s?', stringy)\n",
    "\n",
    "# Try to guess. What will this print?\n",
    "print m"
   ]
  },
  {
   "cell_type": "markdown",
   "metadata": {
    "button": false,
    "deletable": true,
    "new_sheet": false,
    "run_control": {
     "read_only": false
    }
   },
   "source": [
    "<img src=\"http://31.media.tumblr.com/b495222ee1e2df2b1a478c2d5a58df5f/tumblr_mlfep4fByu1rd6wt2o1_500.gif\" alt=\"Title\" style=\"width: 250px\"/>"
   ]
  },
  {
   "cell_type": "markdown",
   "metadata": {
    "button": false,
    "deletable": true,
    "new_sheet": false,
    "run_control": {
     "read_only": false
    }
   },
   "source": [
    "### You're gnarly bro! Let's generate some data! Run the next cell."
   ]
  },
  {
   "cell_type": "code",
   "execution_count": 117,
   "metadata": {
    "button": false,
    "collapsed": false,
    "deletable": true,
    "new_sheet": false,
    "run_control": {
     "read_only": false
    }
   },
   "outputs": [
    {
     "name": "stdout",
     "output_type": "stream",
     "text": [
      "ribbon drafty swimsuit math someone colza astigmatic meningitis battlefield opponent roommate tty hangable associable trundle sop symbiote headsman wormy fluoresce osseous disputant kiss centenary hesitater member carpetbagger backup ovulate analogy nightingale syllabic furbish midwives invade process degrease sly skipjack glamour moustache smoky smitten phalarope flammable brine sauna florican atrophic strawflower tyranny soffit associate mammoth escapade double retardation ambrosia portulaca pastiche limestone vanity valentine vestibule groundwork movie nutate lectionary institute arty valedictorian austere licensee racketeer hatchery fermentation vivify crossbill casserole cavort pantomime palazzi uproot grassland kitty degassing shipmen incorporate polio opthalmology flageolet internal crash baronet arctic suck grotto vexation transference emigrate bater atheist gadgetry curb hutch hedgehog whitish eke incest evolution palladium neuroanotomy pea conversant odometer portrait omniscient drapery normative anastigmat dearie hypothesis sadist windowpane shelve veery orthogonal complement tend lopsided shiver spit amicable sultan swank centroid thing lawman deaconess arsenate escrow waylay sing spindle twigging dame mouthpiece it'll titian lamprey adieu domineer auditor gentleman scandal ultimate mind demagogue thrush flatus alike orthonormal footbridge lollipop oratorio constitutive tsarina schoolhouse f rapport fantasy squatting electroencephalogram bloop melodrama accretion rejoinder bouillon annul ferret lechery snapdragon conservator mean twentyfold respond broth documentation titillate copperas caulk leadsman yen potbelly blurt rhombic stigma contributor ear grateful hydro sleek shiver caddis acquiescent ingrown yield small politician mute somewhere jocose herbivore nodule bow okapi heckle apron mollycoddle bootstrap immaculate expectant curb dispersal figurine memorabilia withheld barbital peace retrieval gallium deerskin juniper gusto rimy musicology craftsperson stooge incidental huge selector expository hind titanium plebian income czarina yen oceanic maltose hollowware melodrama perennial maidenhair tradesman headphone spinel foible kick perform infantryman coronary mulligatawny mix jerky crosstalk leucine fundamental astigmat watch venison clinician bombard deterring heartbeat sanction charcuterie primp copolymer tambourine animadvert uracil crystallite trimer cosmology blur clue triatomic steak confer betony hue altar forgive photography hexadecimal substitute echidna vacuo plasma potentate assort chigger hierarchal tailspin sandbag delve blanc mobster fishy could flotilla whippet leek similar high butterscotch karate shed slogging imperious referenda functionary vacant whelp yaw wooden laconic consistent underclassman endosperm paragon simply manna picayune clothe crocus propagandist tacit collaborate taxied ha abut instinctual lexicon thrush upstream resurgent taxonomic instep anthropocentric hall cobblestone pernicious miscellaneous calico motivate dice before prow tray party cling roadhouse placenta dinghy wove screwdriver ectopic inauthentic gown calendar acrobatic sedge shoemake durance infidel maledict difluoride gas wishy decorate helicopter blanch landlubber juniper snorkel symbiotic walkie hereinbelow acetic peripatetic gasket newel helium appetite embryo stimulus rain lightproof buffoon opponent salty inoperative hector flemish planeload hater buxom wavenumber semantic smirk tambourine shag evolution insomniac dovekie parallax sourberry bait selves radian hunch beyond viscount ambitious hong squash tempestuous cultivate illiteracy veracious aver alveolus artichoke bijective comptroller allegro vivisection implementer immemorial section pore pinkish precocious aficionado jingle shudder inexplicit hillbilly creekside annuity housebroken bog straddle allergy emigre checkout tamp simile partridge may exult impend elector excrescent abc television effeminate myocardial housemate implementer officiate racy incautious terrier gnash acquisition confute rhenium spot alpine odious epiphany fecal suggest tool patriarchy commensal hypothyroid afflict hydrolysis ingratiate general aspen ranch astonish sandal polecat taciturn\n"
     ]
    }
   ],
   "source": [
    "import requests\n",
    "import random\n",
    "import numpy as np\n",
    "\n",
    "word_site = \"http://svnweb.freebsd.org/csrg/share/dict/words?view=co&content-type=text/plain\"\n",
    "\n",
    "response = requests.get(word_site)\n",
    "WORDS = response.content.splitlines()\n",
    "not_proper = [word for word in WORDS if not word[0].isupper()]\n",
    "\n",
    "class formWords:\n",
    "    def __init__(self, not_proper):\n",
    "        self.not_proper = not_proper\n",
    "\n",
    "    def randomNonProper(self):\n",
    "        return self.not_proper[np.random.randint(0,len(self.not_proper))]\n",
    "        \n",
    "    def generateText(self, blog_length):\n",
    "        blog = []\n",
    "        for x in range(blog_length):\n",
    "            blog += [self.randomNonProper()]\n",
    "    \n",
    "        return \" \".join(blog)\n",
    "\n",
    "words = formWords(not_proper)\n",
    "\n",
    "#This is the data variable\n",
    "data = words.generateText(500)\n",
    "print data"
   ]
  },
  {
   "cell_type": "markdown",
   "metadata": {
    "button": false,
    "deletable": true,
    "new_sheet": false,
    "run_control": {
     "read_only": false
    }
   },
   "source": [
    "### Good golly! That sure is alot of data. Hopefully regular expressions can help us through this jam..."
   ]
  },
  {
   "cell_type": "code",
   "execution_count": 83,
   "metadata": {
    "button": false,
    "collapsed": false,
    "deletable": true,
    "new_sheet": false,
    "run_control": {
     "read_only": false
    }
   },
   "outputs": [
    {
     "name": "stdout",
     "output_type": "stream",
     "text": [
      "['alchemist', 'acquitting', 'alga', 'archbishop', 'airborne', 'approximate', 'alone', 'actuate', 'anchorage', 'air', 'arose', 'absurd', 'anyhow', 'anticipatory', 'axiom', 'assort', 'alarm', 'actinide', 'appease', 'abolish', 'asteria', 'ancestry', 'athletic', 'astrophysics', 'arrival', 'anthropomorphic', 'arteriosclerosis', 'arctic', 'admire', 'appendage', 'alkali', 'author']\n"
     ]
    }
   ],
   "source": [
    "# Find all the words with 'man' in them\n",
    "m = re.findall('\\s+(a\\w*)', data)\n",
    "print m"
   ]
  },
  {
   "cell_type": "code",
   "execution_count": 25,
   "metadata": {
    "button": false,
    "collapsed": false,
    "deletable": true,
    "new_sheet": false,
    "run_control": {
     "read_only": false
    }
   },
   "outputs": [],
   "source": [
    "# Find all the words that begin with an 'a'\n",
    "m = re.findall('a', data)\n",
    "print m\n"
   ]
  },
  {
   "cell_type": "code",
   "execution_count": 92,
   "metadata": {
    "button": false,
    "collapsed": false,
    "deletable": true,
    "new_sheet": false,
    "run_control": {
     "read_only": false
    }
   },
   "outputs": [
    {
     "name": "stdout",
     "output_type": "stream",
     "text": [
      "['footman', 'tonsillitis', 'dowitcher', 'roe', 'cooperate', 'consensus', 'hormone', 'doorbell', 'doghouse', 'potpourri', 'comprehensible', 'monadic', 'hookworm', 'rote', 'cowpunch', 'hornet', 'hornblende', 'courtier', 'conclave', 'copybook', 'contract', 'mockingbird', 'congest', 'boggy', 'borax', 'forgetting', 'donate', 'notice', 'boatyard', 'pomelo', 'doubleton', 'forthwith', 'sovereignty', 'would', 'nominate', 'confederacy', 'consign', 'monadic', 'tour', 'fortress', 'loam', 'hornmouth', 'pod', 'cocklebur', 'hospice', 'poise', 'convertible', 'counterexample', 'toot', 'boredom', 'solidarity', 'modulo', 'cormorant', 'bootstrap', 'lodgepole', 'godfather', 'rocky', 'convict', 'topocentric', 'hoodlum', 'homespun', 'formidable', 'pomegranate', 'wold', 'somebody', 'woodwork', 'postmultiply', 'foe', 'kodak']\n"
     ]
    }
   ],
   "source": [
    "# Find all the words with an 'o' as the second letter\n",
    "m = re.findall('\\s(\\wo\\w*)', data)\n",
    "print m"
   ]
  },
  {
   "cell_type": "code",
   "execution_count": 106,
   "metadata": {
    "button": false,
    "collapsed": false,
    "deletable": true,
    "new_sheet": false,
    "run_control": {
     "read_only": false
    }
   },
   "outputs": [
    {
     "name": "stdout",
     "output_type": "stream",
     "text": [
      "['elegiac', 'alchemist', 'equinoctial', 'tonsillitis', 'missionary', 'freehold', 'basil', 'prominent', 'broaden', 'dowitcher', 'proclamation', 'miscellaneous', 'sadist', 'diversion', 'provincial', 'page', 'troublesome', 'blouse', 'chorus', 'cooperate', 'injurious', 'papery', 'bizarre', 'iniquity', 'cattleman', 'hormone', 'luxuriant', 'trilingual', 'pandemic', 'slide', 'doghouse', 'prorogue', 'approximate', 'irresistible', 'alone', 'traversal', 'electorate', 'stricture', 'laboratory', 'ineducable', 'trisodium', 'exponent', 'comprehensible', 'monadic', 'strychnine', 'shipshape', 'beautiful', 'actuate', 'theses', 'grocer', 'xenophobia', 'anchorage', 'rote', 'mesmeric', 'chromosome', 'everybody', 'plebiscite', 'xerography', 'graphite', 'teratology', 'erect', 'arose', 'martensite', 'cholinesterase', 'phylogenetic', 'exculpatory', 'quaver', 'pianoforte', 'thereupon', 'stalemate', 'anticipatory', 'axiom', 'irredentist', 'conclave', 'effete', 'orthophosphate', 'plenipotentiary', 'gestural', 'alarm', 'actinide', 'superfluity', 'exemplar', 'utopian', 'redemption', 'decontrol', 'inexpert', 'systemwide', 'eavesdrop', 'stave', 'mike', 'licorice', 'appease', 'hereafter', 'urinate', 'cereal', 'receptacle', 'borax', 'repeater', 'inhospitable', 'infrequent', 'freshwater', 'glaciate', 'abolish', 'donate', 'injure', 'machination', 'notice', 'earthquake', 'extradite', 'asteria', 'ballerina', 'shadowy', 'phosgene', 'chaotic', 'oral', 'ministry', 'triplicate', 'prolong', 'niece', 'pomelo', 'creamery', 'doubleton', 'grandparent', 'tapis', 'scimitar', 'era', 'discretion', 'pupae', 'basilica', 'drupe', 'sovereignty', 'transposition', 'newline', 'hemisphere', 'jackknife', 'nominate', 'farcical', 'hullabaloo', 'climatic', 'confederacy', 'digestible', 'sideway', 'destitute', 'credible', 'hike', 'finale', 'hillside', 'epiphytic', 'eyebrow', 'marinade', 'monadic', 'numismatic', 'gasoline', 'enclave', 'mineralogy', 'glorious', 'later', 'student', 'gypsite', 'supposable', 'demography', 'segregate', 'evince', 'inflate', 'athletic', 'sediment', 'device', 'melodramatic', 'cadenza', 'arrival', 'anthropomorphic', 'pullover', 'deferent', 'cocklebur', 'munificent', 'immodest', 'hospice', 'poise', 'inertial', 'delimitation', 'arteriosclerosis', 'threesome', 'drake', 'decimal', 'cuneiform', 'flagellate', 'infanticide', 'surrogate', 'protactinium', 'famish', 'scapegoat', 'cavernous', 'justice', 'lacerate', 'birefringent', 'timothy', 'ideate', 'circumscribe', 'incarcerate', 'admire', 'demurring', 'serendipity', 'martini', 'buteo', 'telegram', 'counterexample', 'eigenspace', 'switchblade', 'substitute', 'gases', 'minimax', 'eventuate', 'boredom', 'solidarity', 'denotative', 'penalty', 'modulo', 'cormorant', 'pragmatism', 'pneumonia', 'lodgepole', 'fleece', 'layout', 'bimolecular', 'disastrous', 'echolocation', 'appendage', 'teleology', 'alkali', 'broken', 'smithereens', 'negotiable', 'detain', 'topocentric', 'chloride', 'inept', 'rumen', 'chosen', 'homespun', 'bluegill', 'hypothetic', 'spice', 'formidable', 'pomegranate', 'neoprene', 'somebody', 'profiteer', 'firemen', 'precess', 'ingenuity', 'kodak', 'splice']\n"
     ]
    }
   ],
   "source": [
    "# Find all the words with vowels surrounding one consonant\n",
    "m = re.findall('\\w*[aeiou][b-df-hj-np-tv-z][aeoiu]\\w*', data)\n",
    "print m"
   ]
  },
  {
   "cell_type": "code",
   "execution_count": 113,
   "metadata": {
    "button": false,
    "collapsed": false,
    "deletable": true,
    "new_sheet": false,
    "run_control": {
     "read_only": false
    }
   },
   "outputs": [
    {
     "name": "stdout",
     "output_type": "stream",
     "text": [
      "['dissemble', 'alchemist', 'cambric', 'dowitcher', 'finch', 'cattleman', 'highroad', 'archbishop', 'approximate', 'twiddle', 'daydream', 'stricture', 'physiognomy', 'comprehensible', 'strychnine', 'craftspeople', 'shipshape', 'wholly', 'scratchy', 'filmy', 'luncheon', 'anchorage', 'cowpunch', 'chromosome', 'everybody', 'xerography', 'phylogenetic', 'industrial', 'psychic', 'hornblende', 'anyhow', 'haunch', 'pyrolyse', 'mindful', 'transmitting', 'conclave', 'orthophosphate', 'obstruct', 'stillbirth', 'copybook', 'superfluity', 'exemplar', 'redemption', 'decontrol', 'systemwide', 'contract', 'screenplay', 'eavesdrop', 'mockingbird', 'chestnut', 'boggy', 'basketry', 'singlet', 'infrequent', 'banshee', 'freshwater', 'earthquake', 'extradite', 'ministry', 'hindmost', 'grandparent', 'ancestry', 'churchman', 'discretion', 'wristwatch', 'forthwith', 'sovereignty', 'transposition', 'eighteenth', 'hemisphere', 'nightshirt', 'crosswort', 'jackknife', 'muddle', 'hillside', 'bylaw', 'epiphytic', 'wrathful', 'enclave', 'fortress', 'scrub', 'hillmen', 'gypsite', 'demography', 'butterscotch', 'inflate', 'athletic', 'astrophysics', 'berth', 'hornmouth', 'dribble', 'anthropomorphic', 'cocklebur', 'explain', 'heavyweight', 'risky', 'switchgear', 'patty', 'ugly', 'arteriosclerosis', 'threesome', 'shy', 'arctic', 'clockwork', 'timothy', 'clamshell', 'sketchy', 'circumscribe', 'counterexample', 'eigenspace', 'switchblade', 'substitute', 'skinflint', 'transfer', 'partridge', 'penalty', 'bootstrap', 'disastrous', 'stingray', 'rocky', 'topocentric', 'landmark', 'chloride', 'newsboy', 'lyre', 'mattress', 'sixtyfold', 'hypothetic', 'crowberry', 'bushy', 'postmultiply', 'sphinx', 'splice']\n"
     ]
    }
   ],
   "source": [
    "# Find all the words with three consecutive consonants\n",
    "m = re.findall('\\w*[b-df-hj-np-tv-z][b-df-hj-np-tv-z][b-df-hj-np-tv-z]\\w*', data)\n",
    "print m"
   ]
  },
  {
   "cell_type": "code",
   "execution_count": 116,
   "metadata": {
    "button": false,
    "collapsed": false,
    "deletable": true,
    "new_sheet": false,
    "run_control": {
     "read_only": false
    },
    "scrolled": true
   },
   "outputs": [
    {
     "name": "stdout",
     "output_type": "stream",
     "text": [
      "['incontestable', 'alga', 'airborne', 'approximate', 'irresistible', 'electorate', 'ineducable', 'actuate', 'anchorage', 'arose', 'ogle', 'effete', 'orthophosphate', 'embeddable', 'actinide', 'appease', 'urinate', 'inhospitable', 'injure', 'earthquake', 'extradite', 'era', 'impossible', 'embargo', 'evince', 'inflate', 'infanticide', 'ideate', 'incarcerate', 'eigenspace', 'eventuate', 'appendage', 'alkali']\n"
     ]
    }
   ],
   "source": [
    "# Find all the words that begin and end with a vowel\n",
    "\n",
    "m = re.findall('\\s+([aeiou]\\w*[aeiou])\\s+', data)\n",
    "print m\n"
   ]
  },
  {
   "cell_type": "code",
   "execution_count": 147,
   "metadata": {
    "button": false,
    "collapsed": false,
    "deletable": true,
    "new_sheet": false,
    "run_control": {
     "read_only": false
    }
   },
   "outputs": [
    {
     "name": "stdout",
     "output_type": "stream",
     "text": [
      "colza astigmatic\n",
      "battlefield opponent\n",
      "[('colza astigmatic', 'colza', 'astigmatic'), ('battlefield opponent', 'battlefield', 'opponent'), ('hangable associable', 'hangable', 'associable'), ('fluoresce osseous', 'fluoresce', 'osseous'), ('backup ovulate', 'backup', 'ovulate'), ('midwives invade', 'midwives', 'invade'), ('florican atrophic', 'florican', 'atrophic'), ('soffit associate', 'soffit', 'associate'), ('mammoth escapade', 'mammoth', 'escapade'), ('retardation ambrosia', 'retardation', 'ambrosia'), ('lectionary institute', 'lectionary', 'institute'), ('valedictorian austere', 'valedictorian', 'austere'), ('palazzi uproot', 'palazzi', 'uproot'), ('shipmen incorporate', 'shipmen', 'incorporate'), ('polio opthalmology', 'polio', 'opthalmology'), ('flageolet internal', 'flageolet', 'internal'), ('baronet arctic', 'baronet', 'arctic'), ('transference emigrate', 'transference', 'emigrate'), ('bater atheist', 'bater', 'atheist'), ('whitish eke', 'whitish', 'eke'), ('conversant odometer', 'conversant', 'odometer'), ('portrait omniscient', 'portrait', 'omniscient'), ('normative anastigmat', 'normative', 'anastigmat'), ('veery orthogonal', 'veery', 'orthogonal'), ('spit amicable', 'spit', 'amicable'), ('deaconess arsenate', 'deaconess', 'arsenate'), ('mouthpiece it', 'mouthpiece', 'it'), ('lamprey adieu', 'lamprey', 'adieu'), ('domineer auditor', 'domineer', 'auditor'), ('scandal ultimate', 'scandal', 'ultimate'), ('flatus alike', 'flatus', 'alike'), ('lollipop oratorio', 'lollipop', 'oratorio'), ('squatting electroencephalogram', 'squatting', 'electroencephalogram'), ('melodrama accretion', 'melodrama', 'accretion'), ('bouillon annul', 'bouillon', 'annul'), ('contributor ear', 'contributor', 'ear'), ('caddis acquiescent', 'caddis', 'acquiescent'), ('bow okapi', 'bow', 'okapi'), ('heckle apron', 'heckle', 'apron'), ('bootstrap immaculate', 'bootstrap', 'immaculate'), ('stooge incidental', 'stooge', 'incidental'), ('selector expository', 'selector', 'expository'), ('plebian income', 'plebian', 'income'), ('yen oceanic', 'yen', 'oceanic'), ('perform infantryman', 'perform', 'infantryman'), ('fundamental astigmat', 'fundamental', 'astigmat'), ('tambourine animadvert', 'tambourine', 'animadvert'), ('hue altar', 'hue', 'altar'), ('substitute echidna', 'substitute', 'echidna'), ('potentate assort', 'potentate', 'assort'), ('slogging imperious', 'slogging', 'imperious'), ('consistent underclassman', 'consistent', 'underclassman'), ('ha abut', 'ha', 'abut'), ('thrush upstream', 'thrush', 'upstream'), ('taxonomic instep', 'taxonomic', 'instep'), ('screwdriver ectopic', 'screwdriver', 'ectopic'), ('calendar acrobatic', 'calendar', 'acrobatic'), ('durance infidel', 'durance', 'infidel'), ('hereinbelow acetic', 'hereinbelow', 'acetic'), ('helium appetite', 'helium', 'appetite'), ('buffoon opponent', 'buffoon', 'opponent'), ('salty inoperative', 'salty', 'inoperative'), ('shag evolution', 'shag', 'evolution'), ('viscount ambitious', 'viscount', 'ambitious'), ('cultivate illiteracy', 'cultivate', 'illiteracy'), ('veracious aver', 'veracious', 'aver'), ('comptroller allegro', 'comptroller', 'allegro'), ('vivisection implementer', 'vivisection', 'implementer'), ('precocious aficionado', 'precocious', 'aficionado'), ('shudder inexplicit', 'shudder', 'inexplicit'), ('creekside annuity', 'creekside', 'annuity'), ('straddle allergy', 'straddle', 'allergy'), ('may exult', 'may', 'exult'), ('television effeminate', 'television', 'effeminate'), ('housemate implementer', 'housemate', 'implementer'), ('racy incautious', 'racy', 'incautious'), ('gnash acquisition', 'gnash', 'acquisition'), ('spot alpine', 'spot', 'alpine'), ('hypothyroid afflict', 'hypothyroid', 'afflict'), ('hydrolysis ingratiate', 'hydrolysis', 'ingratiate'), ('general aspen', 'general', 'aspen'), ('ranch astonish', 'ranch', 'astonish')]\n"
     ]
    }
   ],
   "source": [
    "# Find two words such that the first begins with a consonant and the second begins with a vowel\n",
    "m = re.findall('\\s+(([b-df-hj-np-tv-z]\\w*)\\s+([aeiou]\\w*))', data)\n",
    "\n",
    "print m[0][0]\n",
    "print m[1][0]\n",
    "\n",
    "print m"
   ]
  },
  {
   "cell_type": "code",
   "execution_count": null,
   "metadata": {
    "button": false,
    "collapsed": true,
    "deletable": true,
    "new_sheet": false,
    "run_control": {
     "read_only": false
    }
   },
   "outputs": [],
   "source": []
  }
 ],
 "metadata": {
  "anaconda-cloud": {},
  "kernelspec": {
   "display_name": "Python [default]",
   "language": "python",
   "name": "python2"
  },
  "language_info": {
   "codemirror_mode": {
    "name": "ipython",
    "version": 2
   },
   "file_extension": ".py",
   "mimetype": "text/x-python",
   "name": "python",
   "nbconvert_exporter": "python",
   "pygments_lexer": "ipython2",
   "version": "2.7.12"
  }
 },
 "nbformat": 4,
 "nbformat_minor": 0
}
